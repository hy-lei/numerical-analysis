{
 "cells": [
  {
   "cell_type": "code",
   "execution_count": 1,
   "metadata": {},
   "outputs": [],
   "source": [
    "import numpy as np\n",
    "import matplotlib.pyplot as plt"
   ]
  },
  {
   "cell_type": "markdown",
   "metadata": {},
   "source": [
    "## Question 5"
   ]
  },
  {
   "cell_type": "markdown",
   "metadata": {},
   "source": [
    "### (a) Equally spaced points."
   ]
  },
  {
   "cell_type": "markdown",
   "metadata": {},
   "source": [
    "We use Newton Form and recursive construction, using divided difference."
   ]
  },
  {
   "cell_type": "markdown",
   "metadata": {},
   "source": [
    "$$[y_i, y_{i+1}, ..., y_{i+k-1}, y_{i+k}] = \\frac{[y_{i+1}, y_{i+2}, ..., y_{i+k}] - [y_{i}, y_{i+1}, ..., y_{i+k-1}]}{x_{i+k} - x_i}$$"
   ]
  },
  {
   "cell_type": "code",
   "execution_count": 2,
   "metadata": {},
   "outputs": [],
   "source": [
    "def divided_difference(x, y):\n",
    "    \"\"\"x, y are numpy arrays\"\"\"\n",
    "    n, = x.shape\n",
    "    C = np.zeros((n, n))\n",
    "    # base case\n",
    "    C[:, 0] = y\n",
    "    # induction\n",
    "    for k in range(1, n):\n",
    "        for pos in range(0, n - k):\n",
    "            C[pos, k] = (C[pos + 1, k - 1] - C[pos, k - 1]) * 1. / (x[pos + k] - x[pos])\n",
    "    \n",
    "    return C[0, :]"
   ]
  },
  {
   "cell_type": "code",
   "execution_count": 3,
   "metadata": {},
   "outputs": [],
   "source": [
    "def f(x):\n",
    "    \"\"\" x is a vector \"\"\"\n",
    "    return np.reciprocal(1 + x ** 2)"
   ]
  },
  {
   "cell_type": "code",
   "execution_count": 4,
   "metadata": {},
   "outputs": [],
   "source": [
    "def newton_poly(C, X, x_i):\n",
    "    n, = C.shape\n",
    "    result = C[0]\n",
    "    for i in range(1, n):\n",
    "        current_term = C[i]\n",
    "        for j in range(i):\n",
    "            current_term *= (x_i - X[j])\n",
    "        result += current_term\n",
    "    return result"
   ]
  },
  {
   "cell_type": "markdown",
   "metadata": {},
   "source": [
    "We want to derive interpolations for $n \\in {2, 4, 8, 12, 30}.$"
   ]
  },
  {
   "cell_type": "code",
   "execution_count": 5,
   "metadata": {},
   "outputs": [],
   "source": [
    "n = np.array([2, 4, 8, 12, 30])"
   ]
  },
  {
   "cell_type": "code",
   "execution_count": 6,
   "metadata": {},
   "outputs": [],
   "source": [
    "# Use a list to save coefficients of each n\n",
    "coefficients = {}\n",
    "x_arrays = {}\n",
    "y_arrays = {}\n",
    "y_hat_arrays = {}\n",
    "\n",
    "for i, num in enumerate(n):\n",
    "    x = np.linspace(-5., 5., num=num+1)\n",
    "    y = f(x)\n",
    "    C = divided_difference(x, y)\n",
    "    x_arrays[num] = x\n",
    "    y_arrays[num] = y\n",
    "    coefficients[num] = C\n",
    "    \n",
    "    y_hat = []\n",
    "    for j, x_i in enumerate(x):\n",
    "        y_hat.append(newton_poly(C, x, x_i))\n",
    "    y_hat_arrays[num] = np.array(y_hat)"
   ]
  },
  {
   "cell_type": "code",
   "execution_count": 7,
   "metadata": {},
   "outputs": [
    {
     "data": {
      "text/plain": [
       "{2: array([ 0.03846154,  0.19230769, -0.03846154]),\n",
       " 4: array([ 0.03846154,  0.0397878 ,  0.06100796, -0.0265252 ,  0.00530504]),\n",
       " 8: array([ 0.03846154,  0.0223428 ,  0.013956  ,  0.01170427,  0.00067434,\n",
       "        -0.00489646,  0.00243964, -0.00068722,  0.00013744]),\n",
       " 12: array([ 3.84615385e-02,  1.92016758e-02,  8.71522265e-03,  4.36374111e-03,\n",
       "         2.50597905e-03,  1.12202352e-03, -1.57095945e-03,  1.10425196e-04,\n",
       "         3.42766710e-04, -2.12223424e-04,  7.39158656e-05, -1.86342518e-05,\n",
       "         3.72685037e-06]),\n",
       " 30: array([ 3.84615385e-02,  1.63227017e-02,  5.48306175e-03,  1.72761644e-03,\n",
       "         5.37369068e-04,  1.67942232e-04,  5.26265068e-05,  1.60612570e-05,\n",
       "         4.29513799e-06,  5.10201522e-07, -6.41752695e-07, -8.76765459e-07,\n",
       "        -7.02016688e-07, -2.03027783e-07,  4.49090014e-07,  3.52724455e-07,\n",
       "        -5.09998349e-07,  1.08881927e-07,  1.64264236e-07, -1.77179451e-07,\n",
       "         9.72196197e-08, -3.58584975e-08,  9.02594525e-09, -1.14302821e-09,\n",
       "        -2.54878542e-10,  2.27663585e-10, -9.26838382e-11,  2.84066181e-11,\n",
       "        -7.28281919e-12,  1.63048191e-12, -3.26096382e-13])}"
      ]
     },
     "execution_count": 7,
     "metadata": {},
     "output_type": "execute_result"
    }
   ],
   "source": [
    "coefficients"
   ]
  },
  {
   "cell_type": "markdown",
   "metadata": {},
   "source": [
    "Therefore, the unique interpolating polynomials are:"
   ]
  },
  {
   "cell_type": "markdown",
   "metadata": {},
   "source": [
    "$$P_n(x) = c_{n0} + \\sum_{i=1}^{n} c_{ni} \\prod_{j=0}^{i-1}(x - x_j)$$"
   ]
  },
  {
   "cell_type": "markdown",
   "metadata": {},
   "source": [
    "where $c_{ni} (0 \\leq i \\leq n)$ is one of the above coefficients."
   ]
  },
  {
   "cell_type": "code",
   "execution_count": 8,
   "metadata": {},
   "outputs": [
    {
     "data": {
      "text/plain": [
       "{2: array([-5.,  0.,  5.]),\n",
       " 4: array([-5. , -2.5,  0. ,  2.5,  5. ]),\n",
       " 8: array([-5.  , -3.75, -2.5 , -1.25,  0.  ,  1.25,  2.5 ,  3.75,  5.  ]),\n",
       " 12: array([-5.        , -4.16666667, -3.33333333, -2.5       , -1.66666667,\n",
       "        -0.83333333,  0.        ,  0.83333333,  1.66666667,  2.5       ,\n",
       "         3.33333333,  4.16666667,  5.        ]),\n",
       " 30: array([-5.        , -4.66666667, -4.33333333, -4.        , -3.66666667,\n",
       "        -3.33333333, -3.        , -2.66666667, -2.33333333, -2.        ,\n",
       "        -1.66666667, -1.33333333, -1.        , -0.66666667, -0.33333333,\n",
       "         0.        ,  0.33333333,  0.66666667,  1.        ,  1.33333333,\n",
       "         1.66666667,  2.        ,  2.33333333,  2.66666667,  3.        ,\n",
       "         3.33333333,  3.66666667,  4.        ,  4.33333333,  4.66666667,\n",
       "         5.        ])}"
      ]
     },
     "execution_count": 8,
     "metadata": {},
     "output_type": "execute_result"
    }
   ],
   "source": [
    "x_arrays"
   ]
  },
  {
   "cell_type": "code",
   "execution_count": 9,
   "metadata": {},
   "outputs": [
    {
     "data": {
      "text/plain": [
       "{2: array([0.03846154, 1.        , 0.03846154]),\n",
       " 4: array([0.03846154, 0.13793103, 1.        , 0.13793103, 0.03846154]),\n",
       " 8: array([0.03846154, 0.06639004, 0.13793103, 0.3902439 , 1.        ,\n",
       "        0.3902439 , 0.13793103, 0.06639004, 0.03846154]),\n",
       " 12: array([0.03846154, 0.05446293, 0.08256881, 0.13793103, 0.26470588,\n",
       "        0.59016393, 1.        , 0.59016393, 0.26470588, 0.13793103,\n",
       "        0.08256881, 0.05446293, 0.03846154]),\n",
       " 30: array([0.03846154, 0.04390244, 0.0505618 , 0.05882353, 0.06923077,\n",
       "        0.08256881, 0.1       , 0.12328767, 0.15517241, 0.2       ,\n",
       "        0.26470588, 0.36      , 0.5       , 0.69230769, 0.9       ,\n",
       "        1.        , 0.9       , 0.69230769, 0.5       , 0.36      ,\n",
       "        0.26470588, 0.2       , 0.15517241, 0.12328767, 0.1       ,\n",
       "        0.08256881, 0.06923077, 0.05882353, 0.0505618 , 0.04390244,\n",
       "        0.03846154])}"
      ]
     },
     "execution_count": 9,
     "metadata": {},
     "output_type": "execute_result"
    }
   ],
   "source": [
    "y_arrays"
   ]
  },
  {
   "cell_type": "code",
   "execution_count": 10,
   "metadata": {},
   "outputs": [
    {
     "data": {
      "text/plain": [
       "{2: array([0.03846154, 1.        , 0.03846154]),\n",
       " 4: array([0.03846154, 0.13793103, 1.        , 0.13793103, 0.03846154]),\n",
       " 8: array([0.03846154, 0.06639004, 0.13793103, 0.3902439 , 1.        ,\n",
       "        0.3902439 , 0.13793103, 0.06639004, 0.03846154]),\n",
       " 12: array([0.03846154, 0.05446293, 0.08256881, 0.13793103, 0.26470588,\n",
       "        0.59016393, 1.        , 0.59016393, 0.26470588, 0.13793103,\n",
       "        0.08256881, 0.05446293, 0.03846154]),\n",
       " 30: array([0.03846154, 0.04390244, 0.0505618 , 0.05882353, 0.06923077,\n",
       "        0.08256881, 0.1       , 0.12328767, 0.15517241, 0.2       ,\n",
       "        0.26470588, 0.36      , 0.5       , 0.69230769, 0.9       ,\n",
       "        1.        , 0.9       , 0.69230769, 0.5       , 0.36      ,\n",
       "        0.26470588, 0.2       , 0.15517241, 0.12328767, 0.1       ,\n",
       "        0.08256881, 0.06923076, 0.0588235 , 0.05056177, 0.04390236,\n",
       "        0.03846083])}"
      ]
     },
     "execution_count": 10,
     "metadata": {},
     "output_type": "execute_result"
    }
   ],
   "source": [
    "y_hat_arrays"
   ]
  },
  {
   "cell_type": "markdown",
   "metadata": {},
   "source": [
    "Now we have coefficients of $p_n(x)$ for each n, and we want to print predicted $2n$ points."
   ]
  },
  {
   "cell_type": "code",
   "execution_count": 11,
   "metadata": {},
   "outputs": [],
   "source": [
    "prediction = {}\n",
    "for i, num in enumerate(n):\n",
    "    x = np.linspace(-5., 5., num=2 * num)\n",
    "    prediction[num] = {}\n",
    "    prediction[num][\"x\"] = x\n",
    "    y = []\n",
    "    for j, x_i in enumerate(x):\n",
    "        y.append(newton_poly(coefficients[num], x_arrays[num], x_i))\n",
    "    prediction[num][\"p_n(x)\"] = np.array(y)\n",
    "    prediction[num][\"f(x)\"] = f(x)"
   ]
  },
  {
   "cell_type": "markdown",
   "metadata": {},
   "source": [
    "The values of $f(x)$ and $p_n(x)$ for each n are printed below:"
   ]
  },
  {
   "cell_type": "code",
   "execution_count": 12,
   "metadata": {},
   "outputs": [
    {
     "data": {
      "text/plain": [
       "{2: {'x': array([-5.        , -1.66666667,  1.66666667,  5.        ]),\n",
       "  'p_n(x)': array([0.03846154, 0.89316239, 0.89316239, 0.03846154]),\n",
       "  'f(x)': array([0.03846154, 0.26470588, 0.26470588, 0.03846154])},\n",
       " 4: {'x': array([-5.        , -3.57142857, -2.14285714, -0.71428571,  0.71428571,\n",
       "          2.14285714,  3.57142857,  5.        ]),\n",
       "  'p_n(x)': array([ 0.03846154, -0.31914808,  0.32625056,  0.91409139,  0.91409139,\n",
       "          0.32625056, -0.31914808,  0.03846154]),\n",
       "  'f(x)': array([0.03846154, 0.0727003 , 0.17883212, 0.66216216, 0.66216216,\n",
       "         0.17883212, 0.0727003 , 0.03846154])},\n",
       " 8: {'x': array([-5.        , -4.33333333, -3.66666667, -3.        , -2.33333333,\n",
       "         -1.66666667, -1.        , -0.33333333,  0.33333333,  1.        ,\n",
       "          1.66666667,  2.33333333,  3.        ,  3.66666667,  4.33333333,\n",
       "          5.        ]),\n",
       "  'p_n(x)': array([ 0.03846154, -0.77516293,  0.14733469,  0.30493442,  0.09397683,\n",
       "          0.15776341,  0.56362343,  0.94252303,  0.94252303,  0.56362343,\n",
       "          0.15776341,  0.09397683,  0.30493442,  0.14733469, -0.77516293,\n",
       "          0.03846154]),\n",
       "  'f(x)': array([0.03846154, 0.0505618 , 0.06923077, 0.1       , 0.15517241,\n",
       "         0.26470588, 0.5       , 0.9       , 0.9       , 0.5       ,\n",
       "         0.26470588, 0.15517241, 0.1       , 0.06923077, 0.0505618 ,\n",
       "         0.03846154])},\n",
       " 12: {'x': array([-5.        , -4.56521739, -4.13043478, -3.69565217, -3.26086957,\n",
       "         -2.82608696, -2.39130435, -1.95652174, -1.52173913, -1.08695652,\n",
       "         -0.65217391, -0.2173913 ,  0.2173913 ,  0.65217391,  1.08695652,\n",
       "          1.52173913,  1.95652174,  2.39130435,  2.82608696,  3.26086957,\n",
       "          3.69565217,  4.13043478,  4.56521739,  5.        ]),\n",
       "  'p_n(x)': array([ 3.84615385e-02, -2.61347567e+00,  1.81693683e-01,  4.56337901e-01,\n",
       "          3.21171843e-02,  2.39247021e-03,  1.79009068e-01,  2.56274477e-01,\n",
       "          2.78567255e-01,  4.27969660e-01,  7.19829590e-01,  9.63685111e-01,\n",
       "          9.63685111e-01,  7.19829590e-01,  4.27969660e-01,  2.78567255e-01,\n",
       "          2.56274477e-01,  1.79009068e-01,  2.39247021e-03,  3.21171843e-02,\n",
       "          4.56337901e-01,  1.81693683e-01, -2.61347567e+00,  3.84615385e-02]),\n",
       "  'f(x)': array([0.03846154, 0.04578501, 0.05536948, 0.06822285, 0.08596035,\n",
       "         0.11127472, 0.14884637, 0.20712608, 0.30159635, 0.45840555,\n",
       "         0.70159151, 0.95487365, 0.95487365, 0.70159151, 0.45840555,\n",
       "         0.30159635, 0.20712608, 0.14884637, 0.11127472, 0.08596035,\n",
       "         0.06822285, 0.05536948, 0.04578501, 0.03846154])},\n",
       " 30: {'x': array([-5.        , -4.83050847, -4.66101695, -4.49152542, -4.3220339 ,\n",
       "         -4.15254237, -3.98305085, -3.81355932, -3.6440678 , -3.47457627,\n",
       "         -3.30508475, -3.13559322, -2.96610169, -2.79661017, -2.62711864,\n",
       "         -2.45762712, -2.28813559, -2.11864407, -1.94915254, -1.77966102,\n",
       "         -1.61016949, -1.44067797, -1.27118644, -1.10169492, -0.93220339,\n",
       "         -0.76271186, -0.59322034, -0.42372881, -0.25423729, -0.08474576,\n",
       "          0.08474576,  0.25423729,  0.42372881,  0.59322034,  0.76271186,\n",
       "          0.93220339,  1.10169492,  1.27118644,  1.44067797,  1.61016949,\n",
       "          1.77966102,  1.94915254,  2.11864407,  2.28813559,  2.45762712,\n",
       "          2.62711864,  2.79661017,  2.96610169,  3.13559322,  3.30508475,\n",
       "          3.47457627,  3.6440678 ,  3.81355932,  3.98305085,  4.15254237,\n",
       "          4.3220339 ,  4.49152542,  4.66101695,  4.83050847,  5.        ]),\n",
       "  'p_n(x)': array([ 3.84615385e-02,  1.38530366e+03, -1.53831431e+01, -7.21310839e+01,\n",
       "          2.25451418e+00,  6.63293703e+00, -3.12333109e-01, -8.14000557e-01,\n",
       "          1.47894332e-01,  2.34266966e-01,  6.38180634e-02,  5.60507847e-02,\n",
       "          1.08307875e-01,  1.23694033e-01,  1.24236105e-01,  1.38485824e-01,\n",
       "          1.61383973e-01,  1.83654389e-01,  2.07852204e-01,  2.39268575e-01,\n",
       "          2.78648408e-01,  3.25531627e-01,  3.82076291e-01,  4.51487912e-01,\n",
       "          5.35186517e-01,  6.32372355e-01,  7.39595244e-01,  8.47697499e-01,\n",
       "          9.39335970e-01,  9.92886763e-01,  9.92886763e-01,  9.39335970e-01,\n",
       "          8.47697499e-01,  7.39595244e-01,  6.32372355e-01,  5.35186517e-01,\n",
       "          4.51487912e-01,  3.82076291e-01,  3.25531627e-01,  2.78648408e-01,\n",
       "          2.39268575e-01,  2.07852204e-01,  1.83654389e-01,  1.61383973e-01,\n",
       "          1.38485824e-01,  1.24236105e-01,  1.23694033e-01,  1.08307874e-01,\n",
       "          5.60507843e-02,  6.38180622e-02,  2.34266969e-01,  1.47894330e-01,\n",
       "         -8.14000547e-01, -3.12333131e-01,  6.63293702e+00,  2.25451413e+00,\n",
       "         -7.21310840e+01, -1.53831429e+01,  1.38530366e+03,  3.84608298e-02]),\n",
       "  'f(x)': array([0.03846154, 0.04109508, 0.04400425, 0.04722818, 0.05081307,\n",
       "         0.05481372, 0.05929547, 0.06433667, 0.07003179, 0.07649541,\n",
       "         0.08386739, 0.09231952, 0.10206415, 0.11336547, 0.12655421,\n",
       "         0.14204685, 0.1603704 , 0.18219408, 0.20836825, 0.23996967,\n",
       "         0.27834639, 0.32514478, 0.38227542, 0.45172593, 0.53504457,\n",
       "         0.6322194 , 0.73969401, 0.84778373, 0.93928764, 0.99286937,\n",
       "         0.99286937, 0.93928764, 0.84778373, 0.73969401, 0.6322194 ,\n",
       "         0.53504457, 0.45172593, 0.38227542, 0.32514478, 0.27834639,\n",
       "         0.23996967, 0.20836825, 0.18219408, 0.1603704 , 0.14204685,\n",
       "         0.12655421, 0.11336547, 0.10206415, 0.09231952, 0.08386739,\n",
       "         0.07649541, 0.07003179, 0.06433667, 0.05929547, 0.05481372,\n",
       "         0.05081307, 0.04722818, 0.04400425, 0.04109508, 0.03846154])}}"
      ]
     },
     "execution_count": 12,
     "metadata": {},
     "output_type": "execute_result"
    }
   ],
   "source": [
    "prediction"
   ]
  },
  {
   "cell_type": "markdown",
   "metadata": {},
   "source": [
    "Plotting the error $|P_n(x) - f(x)|$ as $n$ increases at the point $x = 1 + \\sqrt{10}$:"
   ]
  },
  {
   "cell_type": "code",
   "execution_count": 13,
   "metadata": {},
   "outputs": [],
   "source": [
    "error = []\n",
    "for i, num in enumerate(n):\n",
    "    error.append(np.abs(newton_poly(coefficients[num], x_arrays[num], 1 + np.sqrt(10)) - f(1 + np.sqrt(10))))\n",
    "error = np.array(error)"
   ]
  },
  {
   "cell_type": "code",
   "execution_count": 14,
   "metadata": {},
   "outputs": [
    {
     "data": {
      "text/plain": [
       "array([0.27909937, 0.42633122, 0.5679242 , 0.01645701, 7.06040153])"
      ]
     },
     "execution_count": 14,
     "metadata": {},
     "output_type": "execute_result"
    }
   ],
   "source": [
    "error"
   ]
  },
  {
   "cell_type": "code",
   "execution_count": 15,
   "metadata": {},
   "outputs": [
    {
     "data": {
      "image/png": "[encoded data removed]",
      "text/plain": [
       "<Figure size 432x288 with 1 Axes>"
      ]
     },
     "metadata": {},
     "output_type": "display_data"
    }
   ],
   "source": [
    "plt.plot(n, error, \"ro\")\n",
    "plt.show()"
   ]
  },
  {
   "cell_type": "markdown",
   "metadata": {},
   "source": [
    "### (b) \"Chebyshev nodes\""
   ]
  },
  {
   "cell_type": "markdown",
   "metadata": {},
   "source": [
    "Generate a list of chebyshev nodes:"
   ]
  },
  {
   "cell_type": "code",
   "execution_count": 16,
   "metadata": {},
   "outputs": [],
   "source": [
    "def chebyshev_list(A, n):\n",
    "    chebyshev_nodes = []\n",
    "    for i in range(0, n):\n",
    "        chebyshev_nodes.append(A * np.cos( (2 * i + 1.) * np.pi / (2 * n + 2) ))\n",
    "    return np.array(chebyshev_nodes)"
   ]
  },
  {
   "cell_type": "code",
   "execution_count": 17,
   "metadata": {},
   "outputs": [],
   "source": [
    "# Use a list to save coefficients of each n\n",
    "chebyshev_coefficients = {}\n",
    "chebyshev_x_arrays = {}\n",
    "chebyshev_y_arrays = {}\n",
    "chebyshev_y_hat_arrays = {}\n",
    "for i, num in enumerate(n):\n",
    "    x = chebyshev_list(5., num + 1)\n",
    "    y = f(x)\n",
    "    C = divided_difference(x, y)\n",
    "    chebyshev_x_arrays[num] = x\n",
    "    chebyshev_y_arrays[num] = y\n",
    "    chebyshev_coefficients[num] = C\n",
    "    \n",
    "    y_hat = []\n",
    "    for j, x_i in enumerate(x):\n",
    "        y_hat.append(newton_poly(C, x, x_i))\n",
    "    chebyshev_y_hat_arrays[num] = np.array(y_hat)"
   ]
  },
  {
   "cell_type": "code",
   "execution_count": 18,
   "metadata": {},
   "outputs": [
    {
     "data": {
      "text/plain": [
       "{2: array([ 0.04476509, -0.06274012, -0.00960384]),\n",
       " 4: array([ 0.04110943, -0.02547312,  0.03062655,  0.00952379,  0.00113851]),\n",
       " 8: array([ 3.93883673e-02, -1.77477821e-02,  7.58714568e-03, -4.27444144e-03,\n",
       "         3.38689975e-03,  2.65197826e-03,  7.65075642e-04,  1.32567258e-04,\n",
       "         1.41126971e-05]),\n",
       " 12: array([ 3.89308061e-02, -1.62060115e-02,  5.61005961e-03, -2.02810449e-03,\n",
       "         8.61201764e-04, -4.52097328e-04,  1.05439112e-04,  3.44218783e-04,\n",
       "         1.75928312e-04,  5.12980042e-05,  1.05109955e-05,  1.60453790e-06,\n",
       "         1.65621552e-07]),\n",
       " 30: array([ 3.85507849e-02, -1.50496072e-02,  4.43955639e-03, -1.18221135e-03,\n",
       "         3.01890872e-04, -7.61647299e-05,  1.93030191e-05, -4.94864719e-06,\n",
       "         1.27473111e-06, -3.16916263e-07,  6.36001209e-08,  3.13613106e-09,\n",
       "        -1.96976388e-08,  2.17990980e-08, -1.48084686e-08, -6.88719749e-09,\n",
       "         1.39677377e-08,  1.33668386e-08,  4.87816500e-09,  2.02396432e-10,\n",
       "        -7.36893804e-10, -4.82666562e-10, -1.96671164e-10, -6.22006149e-11,\n",
       "        -1.64767595e-11, -3.79559315e-12, -7.75787617e-13, -1.41764509e-13,\n",
       "        -2.29839192e-14, -3.17700637e-15, -3.19622854e-16])}"
      ]
     },
     "execution_count": 18,
     "metadata": {},
     "output_type": "execute_result"
    }
   ],
   "source": [
    "chebyshev_coefficients"
   ]
  },
  {
   "cell_type": "code",
   "execution_count": 19,
   "metadata": {},
   "outputs": [
    {
     "data": {
      "text/plain": [
       "{2: array([ 4.61939766,  1.91341716, -1.91341716]),\n",
       " 4: array([ 4.82962913,  3.53553391,  1.29409523, -1.29409523, -3.53553391]),\n",
       " 8: array([ 4.9384417 ,  4.45503262,  3.53553391,  2.2699525 ,  0.78217233,\n",
       "        -0.78217233, -2.2699525 , -3.53553391, -4.45503262]),\n",
       " 12: array([ 4.96856105,  4.71941665,  4.233621  ,  3.53553391,  2.66016038,\n",
       "         1.65139531,  0.55982238, -0.55982238, -1.65139531, -2.66016038,\n",
       "        -3.53553391, -4.233621  , -4.71941665]),\n",
       " 30: array([ 4.99397728,  4.94588255,  4.85015627,  4.70772033,  4.51994647,\n",
       "         4.28864305,  4.01603766,  3.70475563,  3.35779477,  2.97849652,\n",
       "         2.57051372,  2.13777547,  1.68444927,  1.2149009 ,  0.73365237,\n",
       "         0.24533837, -0.24533837, -0.73365237, -1.2149009 , -1.68444927,\n",
       "        -2.13777547, -2.57051372, -2.97849652, -3.35779477, -3.70475563,\n",
       "        -4.01603766, -4.28864305, -4.51994647, -4.70772033, -4.85015627,\n",
       "        -4.94588255])}"
      ]
     },
     "execution_count": 19,
     "metadata": {},
     "output_type": "execute_result"
    }
   ],
   "source": [
    "chebyshev_x_arrays"
   ]
  },
  {
   "cell_type": "code",
   "execution_count": 20,
   "metadata": {},
   "outputs": [
    {
     "data": {
      "text/plain": [
       "{2: array([0.04476509, 0.21453863, 0.21453863]),\n",
       " 4: array([0.04110943, 0.07407407, 0.37387616, 0.37387616, 0.07407407]),\n",
       " 8: array([0.03938837, 0.04796781, 0.07407407, 0.16253068, 0.62042685,\n",
       "        0.62042685, 0.16253068, 0.07407407, 0.04796781]),\n",
       " 12: array([0.03893081, 0.04296844, 0.05284422, 0.07407407, 0.12381673,\n",
       "        0.26830465, 0.76138203, 0.76138203, 0.26830465, 0.12381673,\n",
       "        0.07407407, 0.05284422, 0.04296844]),\n",
       " 30: array([0.03855078, 0.03927459, 0.04077636, 0.04317299, 0.04666374,\n",
       "        0.05156644, 0.05838203, 0.06791073, 0.08146782, 0.10130233,\n",
       "        0.13144852, 0.17953051, 0.26059519, 0.4038798 , 0.65009116,\n",
       "        0.94322634, 0.94322634, 0.65009116, 0.4038798 , 0.26059519,\n",
       "        0.17953051, 0.13144852, 0.10130233, 0.08146782, 0.06791073,\n",
       "        0.05838203, 0.05156644, 0.04666374, 0.04317299, 0.04077636,\n",
       "        0.03927459])}"
      ]
     },
     "execution_count": 20,
     "metadata": {},
     "output_type": "execute_result"
    }
   ],
   "source": [
    "chebyshev_y_arrays"
   ]
  },
  {
   "cell_type": "code",
   "execution_count": 21,
   "metadata": {},
   "outputs": [
    {
     "data": {
      "text/plain": [
       "{2: array([0.04476509, 0.21453863, 0.21453863]),\n",
       " 4: array([0.04110943, 0.07407407, 0.37387616, 0.37387616, 0.07407407]),\n",
       " 8: array([0.03938837, 0.04796781, 0.07407407, 0.16253068, 0.62042685,\n",
       "        0.62042685, 0.16253068, 0.07407407, 0.04796781]),\n",
       " 12: array([0.03893081, 0.04296844, 0.05284422, 0.07407407, 0.12381673,\n",
       "        0.26830465, 0.76138203, 0.76138203, 0.26830465, 0.12381673,\n",
       "        0.07407407, 0.05284422, 0.04296844]),\n",
       " 30: array([0.03855078, 0.03927459, 0.04077636, 0.04317299, 0.04666374,\n",
       "        0.05156644, 0.05838203, 0.06791073, 0.08146782, 0.10130233,\n",
       "        0.13144852, 0.17953051, 0.26059519, 0.4038798 , 0.65009116,\n",
       "        0.94322634, 0.94322634, 0.65009116, 0.4038798 , 0.26059519,\n",
       "        0.17953051, 0.13144852, 0.10130233, 0.08146782, 0.06791073,\n",
       "        0.05838203, 0.05156644, 0.04666374, 0.04317299, 0.04077641,\n",
       "        0.03927462])}"
      ]
     },
     "execution_count": 21,
     "metadata": {},
     "output_type": "execute_result"
    }
   ],
   "source": [
    "chebyshev_y_hat_arrays"
   ]
  },
  {
   "cell_type": "markdown",
   "metadata": {},
   "source": [
    "Print the values of $f(x)$ and $p_n(x)$ at $2n$ points:"
   ]
  },
  {
   "cell_type": "code",
   "execution_count": 22,
   "metadata": {},
   "outputs": [],
   "source": [
    "chebyshev_prediction = {}\n",
    "for i, num in enumerate(n):\n",
    "    x = chebyshev_list(5., 2 * num)\n",
    "    chebyshev_prediction[num] = {}\n",
    "    chebyshev_prediction[num][\"x\"] = x\n",
    "    y = []\n",
    "    for j, x_i in enumerate(x):\n",
    "        y.append(newton_poly(chebyshev_coefficients[num], chebyshev_x_arrays[num], x_i))\n",
    "    chebyshev_prediction[num][\"p_n(x)\"] = np.array(y)\n",
    "    chebyshev_prediction[num][\"f(x)\"] = f(x)"
   ]
  },
  {
   "cell_type": "code",
   "execution_count": 23,
   "metadata": {},
   "outputs": [
    {
     "data": {
      "text/plain": [
       "{2: {'x': array([ 4.75528258e+00,  2.93892626e+00,  3.06161700e-16, -2.93892626e+00]),\n",
       "  'p_n(x)': array([0.03253097, 0.16674874, 0.24969988, 0.16674874]),\n",
       "  'f(x)': array([0.04235007, 0.10376364, 1.        , 0.10376364])},\n",
       " 4: {'x': array([ 4.92403877e+00,  4.33012702e+00,  3.21393805e+00,  1.71010072e+00,\n",
       "          3.06161700e-16, -1.71010072e+00, -3.21393805e+00, -4.33012702e+00]),\n",
       "  'p_n(x)': array([0.05061981, 0.0224855 , 0.11279996, 0.32563989, 0.44408866,\n",
       "         0.32563989, 0.11279996, 0.0224855 ]),\n",
       "  'f(x)': array([0.03960999, 0.05063291, 0.08826594, 0.25481314, 1.        ,\n",
       "         0.25481314, 0.08826594, 0.05063291])},\n",
       " 8: {'x': array([ 4.97867088e+00,  4.80912822e+00,  4.47581646e+00,  3.99008614e+00,\n",
       "          3.36847822e+00,  2.63216081e+00,  1.80620833e+00,  9.18747589e-01,\n",
       "          3.06161700e-16, -9.18747589e-01, -1.80620833e+00, -2.63216081e+00,\n",
       "         -3.36847822e+00, -3.99008614e+00, -4.47581646e+00, -4.80912822e+00]),\n",
       "  'p_n(x)': array([0.04506956, 0.03104308, 0.04636364, 0.07473618, 0.07127579,\n",
       "         0.1010403 , 0.28830315, 0.5822167 , 0.73082166, 0.5822167 ,\n",
       "         0.28830315, 0.1010403 , 0.07127579, 0.07473618, 0.04636364,\n",
       "         0.03104308]),\n",
       "  'f(x)': array([0.03877898, 0.04144611, 0.04754449, 0.0590989 , 0.08099366,\n",
       "         0.12613091, 0.23461024, 0.54227079, 1.        , 0.54227079,\n",
       "         0.23461024, 0.12613091, 0.08099366, 0.0590989 , 0.04754449,\n",
       "         0.04144611])},\n",
       " 12: {'x': array([ 4.99013364e+00,  4.91143625e+00,  4.75528258e+00,  4.52413526e+00,\n",
       "          4.22163963e+00,  3.85256621e+00,  3.42273553e+00,  2.93892626e+00,\n",
       "          2.40876837e+00,  1.84062276e+00,  1.24344944e+00,  6.26666168e-01,\n",
       "          3.06161700e-16, -6.26666168e-01, -1.24344944e+00, -1.84062276e+00,\n",
       "         -2.40876837e+00, -2.93892626e+00, -3.42273553e+00, -3.85256621e+00,\n",
       "         -4.22163963e+00, -4.52413526e+00, -4.75528258e+00, -4.91143625e+00]),\n",
       "  'p_n(x)': array([0.04164467, 0.03550109, 0.04073518, 0.0522841 , 0.05271698,\n",
       "         0.05557785, 0.08277864, 0.11412244, 0.13378784, 0.21283117,\n",
       "         0.43780808, 0.73462678, 0.87660233, 0.73462678, 0.43780808,\n",
       "         0.21283117, 0.13378784, 0.11412244, 0.08277864, 0.05557785,\n",
       "         0.05271698, 0.0522841 , 0.04073518, 0.03550109]),\n",
       "  'f(x)': array([0.0386079 , 0.03980542, 0.04235007, 0.04658139, 0.05312864,\n",
       "         0.06312228, 0.07864653, 0.10376364, 0.14701202, 0.22789986,\n",
       "         0.39274729, 0.71802432, 1.        , 0.71802432, 0.39274729,\n",
       "         0.22789986, 0.14701202, 0.10376364, 0.07864653, 0.06312228,\n",
       "         0.05312864, 0.04658139, 0.04235007, 0.03980542])},\n",
       " 30: {'x': array([ 4.99834234e+00,  4.98508763e+00,  4.95861337e+00,  4.91898976e+00,\n",
       "          4.86632187e+00,  4.80074937e+00,  4.72244614e+00,  4.63161984e+00,\n",
       "          4.52851132e+00,  4.41339399e+00,  4.28657314e+00,  4.14838507e+00,\n",
       "          3.99919622e+00,  3.83940223e+00,  3.66942683e+00,  3.48972077e+00,\n",
       "          3.30076060e+00,  3.10304741e+00,  2.89710549e+00,  2.68348097e+00,\n",
       "          2.46274034e+00,  2.23546896e+00,  2.00226953e+00,  1.76376043e+00,\n",
       "          1.52057416e+00,  1.27335560e+00,  1.02276033e+00,  7.69452884e-01,\n",
       "          5.14104986e-01,  2.57393774e-01,  3.06161700e-16, -2.57393774e-01,\n",
       "         -5.14104986e-01, -7.69452884e-01, -1.02276033e+00, -1.27335560e+00,\n",
       "         -1.52057416e+00, -1.76376043e+00, -2.00226953e+00, -2.23546896e+00,\n",
       "         -2.46274034e+00, -2.68348097e+00, -2.89710549e+00, -3.10304741e+00,\n",
       "         -3.30076060e+00, -3.48972077e+00, -3.66942683e+00, -3.83940223e+00,\n",
       "         -3.99919622e+00, -4.14838507e+00, -4.28657314e+00, -4.41339399e+00,\n",
       "         -4.52851132e+00, -4.63161984e+00, -4.72244614e+00, -4.80074937e+00,\n",
       "         -4.86632187e+00, -4.91898976e+00, -4.95861337e+00, -4.98508763e+00]),\n",
       "  'p_n(x)': array([0.03839548, 0.03878819, 0.03915666, 0.03956842, 0.04045733,\n",
       "         0.04171974, 0.04295726, 0.04438857, 0.0464749 , 0.04900178,\n",
       "         0.05160907, 0.0547283 , 0.05888234, 0.06374122, 0.06905514,\n",
       "         0.07564222, 0.08420571, 0.09435818, 0.10623833, 0.12161792,\n",
       "         0.14189228, 0.16711125, 0.19907348, 0.24282468, 0.30285494,\n",
       "         0.38196854, 0.48713584, 0.62761797, 0.79365732, 0.93811581,\n",
       "         0.99653464, 0.93811581, 0.79365732, 0.62761797, 0.48713584,\n",
       "         0.38196854, 0.30285494, 0.24282468, 0.19907348, 0.16711125,\n",
       "         0.14189228, 0.12161792, 0.10623833, 0.09435818, 0.08420571,\n",
       "         0.07564222, 0.06905514, 0.06374122, 0.05888234, 0.0547283 ,\n",
       "         0.05160907, 0.04900178, 0.04647491, 0.04438857, 0.04295726,\n",
       "         0.04171973, 0.04045733, 0.03956848, 0.03915663, 0.03878823]),\n",
       "  'f(x)': array([0.03848607, 0.03868308, 0.03908105, 0.03968811, 0.04051685,\n",
       "         0.04158489, 0.0429157 , 0.04453966, 0.04649559, 0.04883278,\n",
       "         0.05161368, 0.0549176 , 0.05884579, 0.06352833, 0.06913385,\n",
       "         0.07588318, 0.08406879, 0.09408308, 0.10645976, 0.12193531,\n",
       "         0.14154101, 0.1667411 , 0.19963733, 0.24325864, 0.30191908,\n",
       "         0.38147053, 0.48874931, 0.62811792, 0.79094905, 0.93786499,\n",
       "         1.        , 0.93786499, 0.79094905, 0.62811792, 0.48874931,\n",
       "         0.38147053, 0.30191908, 0.24325864, 0.19963733, 0.1667411 ,\n",
       "         0.14154101, 0.12193531, 0.10645976, 0.09408308, 0.08406879,\n",
       "         0.07588318, 0.06913385, 0.06352833, 0.05884579, 0.0549176 ,\n",
       "         0.05161368, 0.04883278, 0.04649559, 0.04453966, 0.0429157 ,\n",
       "         0.04158489, 0.04051685, 0.03968811, 0.03908105, 0.03868308])}}"
      ]
     },
     "execution_count": 23,
     "metadata": {},
     "output_type": "execute_result"
    }
   ],
   "source": [
    "chebyshev_prediction"
   ]
  },
  {
   "cell_type": "markdown",
   "metadata": {},
   "source": [
    "For $n = 8$, plot the two polynomials obtained by \"Chebyshev nodes\" and \"equi-spaced node\" and compare with the true function:"
   ]
  },
  {
   "cell_type": "code",
   "execution_count": 24,
   "metadata": {},
   "outputs": [],
   "source": [
    "chebyshev_x_8 = chebyshev_prediction[8][\"x\"]\n",
    "chebyshev_y_8 = chebyshev_prediction[8][\"p_n(x)\"]\n",
    "chebyshev_f_x_8 = chebyshev_prediction[8][\"f(x)\"]\n",
    "x_8 = prediction[8][\"x\"]\n",
    "y_8 = prediction[8][\"p_n(x)\"]\n",
    "f_x_8 = prediction[8][\"f(x)\"]"
   ]
  },
  {
   "cell_type": "code",
   "execution_count": 25,
   "metadata": {},
   "outputs": [
    {
     "data": {
      "text/plain": [
       "array([ 4.97867088e+00,  4.80912822e+00,  4.47581646e+00,  3.99008614e+00,\n",
       "        3.36847822e+00,  2.63216081e+00,  1.80620833e+00,  9.18747589e-01,\n",
       "        3.06161700e-16, -9.18747589e-01, -1.80620833e+00, -2.63216081e+00,\n",
       "       -3.36847822e+00, -3.99008614e+00, -4.47581646e+00, -4.80912822e+00])"
      ]
     },
     "execution_count": 25,
     "metadata": {},
     "output_type": "execute_result"
    }
   ],
   "source": [
    "chebyshev_x_8"
   ]
  },
  {
   "cell_type": "code",
   "execution_count": 26,
   "metadata": {},
   "outputs": [
    {
     "data": {
      "text/plain": [
       "array([0.04506956, 0.03104308, 0.04636364, 0.07473618, 0.07127579,\n",
       "       0.1010403 , 0.28830315, 0.5822167 , 0.73082166, 0.5822167 ,\n",
       "       0.28830315, 0.1010403 , 0.07127579, 0.07473618, 0.04636364,\n",
       "       0.03104308])"
      ]
     },
     "execution_count": 26,
     "metadata": {},
     "output_type": "execute_result"
    }
   ],
   "source": [
    "chebyshev_y_8"
   ]
  },
  {
   "cell_type": "code",
   "execution_count": 27,
   "metadata": {},
   "outputs": [
    {
     "data": {
      "text/plain": [
       "array([0.03877898, 0.04144611, 0.04754449, 0.0590989 , 0.08099366,\n",
       "       0.12613091, 0.23461024, 0.54227079, 1.        , 0.54227079,\n",
       "       0.23461024, 0.12613091, 0.08099366, 0.0590989 , 0.04754449,\n",
       "       0.04144611])"
      ]
     },
     "execution_count": 27,
     "metadata": {},
     "output_type": "execute_result"
    }
   ],
   "source": [
    "chebyshev_f_x_8"
   ]
  },
  {
   "cell_type": "code",
   "execution_count": 28,
   "metadata": {},
   "outputs": [
    {
     "data": {
      "text/plain": [
       "array([-5.        , -4.33333333, -3.66666667, -3.        , -2.33333333,\n",
       "       -1.66666667, -1.        , -0.33333333,  0.33333333,  1.        ,\n",
       "        1.66666667,  2.33333333,  3.        ,  3.66666667,  4.33333333,\n",
       "        5.        ])"
      ]
     },
     "execution_count": 28,
     "metadata": {},
     "output_type": "execute_result"
    }
   ],
   "source": [
    "x_8"
   ]
  },
  {
   "cell_type": "code",
   "execution_count": 29,
   "metadata": {},
   "outputs": [
    {
     "data": {
      "text/plain": [
       "array([ 0.03846154, -0.77516293,  0.14733469,  0.30493442,  0.09397683,\n",
       "        0.15776341,  0.56362343,  0.94252303,  0.94252303,  0.56362343,\n",
       "        0.15776341,  0.09397683,  0.30493442,  0.14733469, -0.77516293,\n",
       "        0.03846154])"
      ]
     },
     "execution_count": 29,
     "metadata": {},
     "output_type": "execute_result"
    }
   ],
   "source": [
    "y_8"
   ]
  },
  {
   "cell_type": "code",
   "execution_count": 30,
   "metadata": {},
   "outputs": [
    {
     "data": {
      "text/plain": [
       "array([0.03846154, 0.0505618 , 0.06923077, 0.1       , 0.15517241,\n",
       "       0.26470588, 0.5       , 0.9       , 0.9       , 0.5       ,\n",
       "       0.26470588, 0.15517241, 0.1       , 0.06923077, 0.0505618 ,\n",
       "       0.03846154])"
      ]
     },
     "execution_count": 30,
     "metadata": {},
     "output_type": "execute_result"
    }
   ],
   "source": [
    "f_x_8"
   ]
  },
  {
   "cell_type": "code",
   "execution_count": 31,
   "metadata": {},
   "outputs": [
    {
     "data": {
      "image/png": "[encoded data removed]",
      "text/plain": [
       "<Figure size 432x288 with 1 Axes>"
      ]
     },
     "metadata": {},
     "output_type": "display_data"
    }
   ],
   "source": [
    "plt.plot(chebyshev_x_8, chebyshev_y_8, chebyshev_x_8, chebyshev_f_x_8)\n",
    "plt.show()"
   ]
  },
  {
   "cell_type": "code",
   "execution_count": 32,
   "metadata": {},
   "outputs": [
    {
     "data": {
      "image/png": "[encoded data removed]",
      "text/plain": [
       "<Figure size 432x288 with 1 Axes>"
      ]
     },
     "metadata": {},
     "output_type": "display_data"
    }
   ],
   "source": [
    "plt.plot(x_8, y_8, x_8, f_x_8)\n",
    "plt.show()"
   ]
  },
  {
   "cell_type": "markdown",
   "metadata": {},
   "source": [
    "Print the polynomials such that they look \"smoother\":"
   ]
  },
  {
   "cell_type": "code",
   "execution_count": 33,
   "metadata": {},
   "outputs": [],
   "source": [
    "plot_x_8 = np.arange(-5., 5., 0.02)\n",
    "plot_y_8 = []\n",
    "plot_chebyshev_y_8 = []\n",
    "plot_f_x_8 = f(plot_x_8)\n",
    "\n",
    "for i, x_i in enumerate(plot_x_8):\n",
    "    plot_y_8.append(newton_poly(coefficients[8], x_arrays[8], x_i))\n",
    "    plot_chebyshev_y_8.append(newton_poly(chebyshev_coefficients[8], chebyshev_x_arrays[8], x_i))"
   ]
  },
  {
   "cell_type": "markdown",
   "metadata": {},
   "source": [
    "Equi-spaced $P_8(x)$ against $f(x)$:"
   ]
  },
  {
   "cell_type": "code",
   "execution_count": 34,
   "metadata": {},
   "outputs": [
    {
     "data": {
      "image/png": "[encoded data removed]",
      "text/plain": [
       "<Figure size 432x288 with 1 Axes>"
      ]
     },
     "metadata": {},
     "output_type": "display_data"
    }
   ],
   "source": [
    "plt.plot(plot_x_8, plot_y_8, plot_x_8, plot_f_x_8)\n",
    "plt.show()"
   ]
  },
  {
   "cell_type": "markdown",
   "metadata": {},
   "source": [
    "Chebyshev $P_8(x)$ against $f(x)$:"
   ]
  },
  {
   "cell_type": "code",
   "execution_count": 35,
   "metadata": {},
   "outputs": [
    {
     "data": {
      "image/png": "[encoded data removed]",
      "text/plain": [
       "<Figure size 432x288 with 1 Axes>"
      ]
     },
     "metadata": {},
     "output_type": "display_data"
    }
   ],
   "source": [
    "plt.plot(plot_x_8, plot_chebyshev_y_8, plot_x_8, plot_f_x_8)\n",
    "plt.show()"
   ]
  },
  {
   "cell_type": "markdown",
   "metadata": {},
   "source": [
    "The Chebyshev polynomial approximates better using the interpolation error definition in Question 2(b): $$e_n = \\max_{0 \\leq x \\leq 1} |f(x) - P_n(x)|$$"
   ]
  },
  {
   "cell_type": "markdown",
   "metadata": {},
   "source": [
    "Since $e_{equi-spaced} \\approx 1$, $e_{Chebyshev} \\approx 0.3$ over $[-5, 5]$, the Chebyshev polynomial approximates better."
   ]
  }
 ],
 "metadata": {
  "kernelspec": {
   "display_name": "Python 3",
   "language": "python",
   "name": "python3"
  },
  "language_info": {
   "codemirror_mode": {
    "name": "ipython",
    "version": 3
   },
   "file_extension": ".py",
   "mimetype": "text/x-python",
   "name": "python",
   "nbconvert_exporter": "python",
   "pygments_lexer": "ipython3",
   "version": "3.6.5"
  }
 },
 "nbformat": 4,
 "nbformat_minor": 2
}

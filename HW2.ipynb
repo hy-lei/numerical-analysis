{
 "cells": [
  {
   "cell_type": "markdown",
   "metadata": {},
   "source": [
    "## Homework 2 Problem 5 (b)"
   ]
  },
  {
   "cell_type": "code",
   "execution_count": 1,
   "metadata": {},
   "outputs": [],
   "source": [
    "import numpy as np"
   ]
  },
  {
   "cell_type": "markdown",
   "metadata": {},
   "source": [
    "### Jacobi method"
   ]
  },
  {
   "cell_type": "code",
   "execution_count": 2,
   "metadata": {},
   "outputs": [],
   "source": [
    "def Jacobi(D, R, b, x_0, n):\n",
    "    \"\"\"\n",
    "        D: diagonal matrix with dimension dim * dim\n",
    "        R: remainder matrix, with dimension dim * dim\n",
    "        A = D + R\n",
    "        x: solution of previous iteration\n",
    "        n: max number of iteration\n",
    "    \"\"\"\n",
    "    dim, _ = D.shape\n",
    "    x_current = x_0\n",
    "    for i in range(n):\n",
    "        print(i)\n",
    "        x_next = []\n",
    "        for j in range(dim):\n",
    "            x_next.append(1.0 / D[j][j] * (b[j] - R[j].dot(x_current)))\n",
    "        x_current = np.array(x_next).reshape(dim, 1)\n",
    "        print(x_current)\n",
    "    return x_current"
   ]
  },
  {
   "cell_type": "code",
   "execution_count": 3,
   "metadata": {},
   "outputs": [],
   "source": [
    "D = np.array([[5, 0, 0], [0, 9, 0], [0, 0, -7]])\n",
    "R = np.array([[0, -2, 3], [-3, 0, 1], [2, -2, 0]])\n",
    "b = np.array([-1, 2, 3]).reshape(3, 1)\n",
    "x_0 = np.array([0, 0, 0]).reshape(3, 1)"
   ]
  },
  {
   "cell_type": "code",
   "execution_count": 4,
   "metadata": {},
   "outputs": [
    {
     "name": "stdout",
     "output_type": "stream",
     "text": [
      "0\n",
      "[[-0.2       ]\n",
      " [ 0.22222222]\n",
      " [-0.42857143]]\n",
      "1\n",
      "[[ 0.14603175]\n",
      " [ 0.2031746 ]\n",
      " [-0.54920635]]\n",
      "2\n",
      "[[ 0.21079365]\n",
      " [ 0.3319224 ]\n",
      " [-0.44489796]]\n",
      "3\n",
      "[[ 0.19970773]\n",
      " [ 0.34191988]\n",
      " [-0.46317964]]\n",
      "4\n",
      "[[ 0.21467574]\n",
      " [ 0.34025587]\n",
      " [-0.46920347]]\n",
      "5\n",
      "[[ 0.21762443]\n",
      " [ 0.34591452]\n",
      " [-0.46445147]]\n",
      "6\n",
      "[[ 0.21703669]\n",
      " [ 0.34636942]\n",
      " [-0.46522574]]\n",
      "7\n",
      "[[ 0.21768321]\n",
      " [ 0.34625953]\n",
      " [-0.46552364]]\n",
      "8\n",
      "[[ 0.217818  ]\n",
      " [ 0.34650814]\n",
      " [-0.46530752]]\n",
      "9\n",
      "[[ 0.21778777]\n",
      " [ 0.34652906]\n",
      " [-0.46534004]]\n"
     ]
    },
    {
     "data": {
      "text/plain": [
       "array([[ 0.21778777],\n",
       "       [ 0.34652906],\n",
       "       [-0.46534004]])"
      ]
     },
     "execution_count": 4,
     "metadata": {},
     "output_type": "execute_result"
    }
   ],
   "source": [
    "Jacobi(D, R, b, x_0, 10)"
   ]
  },
  {
   "cell_type": "markdown",
   "metadata": {},
   "source": [
    "Therefore, after ten steps, the answer is $[0.217788 \\ \\ 0.346529 \\ \\ -0.465340]^T$."
   ]
  },
  {
   "cell_type": "markdown",
   "metadata": {},
   "source": [
    "### Gauss-Seidel method"
   ]
  },
  {
   "cell_type": "code",
   "execution_count": 5,
   "metadata": {},
   "outputs": [],
   "source": [
    "def Gauss_Seidel(D, R, b, x_0, n):\n",
    "    \"\"\"\n",
    "        D: diagonal matrix with dimension dim * dim\n",
    "        R: remainder matrix, with dimension dim * dim\n",
    "        A = D + R\n",
    "        x: solution of previous iteration\n",
    "        n: max number of iteration\n",
    "    \"\"\"\n",
    "    dim, _ = D.shape\n",
    "    x_current = x_0\n",
    "    for i in range(n):\n",
    "        print(i)\n",
    "        for j in range(dim):\n",
    "            x_current[j] = 1.0 / D[j][j] * (b[j] - R[j].dot(x_current))\n",
    "            print(x_current[j])\n",
    "    return x_current"
   ]
  },
  {
   "cell_type": "code",
   "execution_count": 6,
   "metadata": {},
   "outputs": [],
   "source": [
    "D = np.array([[5, 0, 0], [0, 9, 0], [0, 0, -7]])\n",
    "R = np.array([[0, -2, 3], [-3, 0, 1], [2, -2, 0]])\n",
    "b = np.array([-1, 2, 3]).reshape(3, 1)\n",
    "x_0 = np.array([0., 0., 0.]).reshape(3, 1)"
   ]
  },
  {
   "cell_type": "code",
   "execution_count": 7,
   "metadata": {},
   "outputs": [
    {
     "name": "stdout",
     "output_type": "stream",
     "text": [
      "0\n",
      "[-0.2]\n",
      "[0.15555556]\n",
      "[-0.53015873]\n",
      "1\n",
      "[0.18031746]\n",
      "[0.34123457]\n",
      "[-0.47454775]\n",
      "2\n",
      "[0.22122247]\n",
      "[0.34869057]\n",
      "[-0.46499089]\n",
      "3\n",
      "[0.21847076]\n",
      "[0.34671146]\n",
      "[-0.46521163]\n",
      "4\n",
      "[0.21781156]\n",
      "[0.34651626]\n",
      "[-0.4653442]\n",
      "5\n",
      "[0.21781302]\n",
      "[0.34653147]\n",
      "[-0.46534813]\n",
      "6\n",
      "[0.21782147]\n",
      "[0.34653473]\n",
      "[-0.46534665]\n",
      "7\n",
      "[0.21782188]\n",
      "[0.3465347]\n",
      "[-0.46534652]\n",
      "8\n",
      "[0.21782179]\n",
      "[0.34653465]\n",
      "[-0.46534653]\n",
      "9\n",
      "[0.21782178]\n",
      "[0.34653465]\n",
      "[-0.46534653]\n"
     ]
    },
    {
     "data": {
      "text/plain": [
       "array([[ 0.21782178],\n",
       "       [ 0.34653465],\n",
       "       [-0.46534653]])"
      ]
     },
     "execution_count": 7,
     "metadata": {},
     "output_type": "execute_result"
    }
   ],
   "source": [
    "Gauss_Seidel(D, R, b, x_0, 10)"
   ]
  },
  {
   "cell_type": "markdown",
   "metadata": {},
   "source": [
    "For Gauss-Seidel method, after ten steps, the answer is $[0.217822 \\ \\ 0.346535 \\ \\ -0.465347]^T$."
   ]
  }
 ],
 "metadata": {
  "kernelspec": {
   "display_name": "Python 3",
   "language": "python",
   "name": "python3"
  },
  "language_info": {
   "codemirror_mode": {
    "name": "ipython",
    "version": 3
   },
   "file_extension": ".py",
   "mimetype": "text/x-python",
   "name": "python",
   "nbconvert_exporter": "python",
   "pygments_lexer": "ipython3",
   "version": "3.6.5"
  }
 },
 "nbformat": 4,
 "nbformat_minor": 2
}

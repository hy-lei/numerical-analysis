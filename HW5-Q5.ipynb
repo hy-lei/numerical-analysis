{
 "cells": [
  {
   "cell_type": "code",
   "execution_count": 1,
   "metadata": {},
   "outputs": [],
   "source": [
    "import numpy as np"
   ]
  },
  {
   "cell_type": "code",
   "execution_count": 2,
   "metadata": {},
   "outputs": [],
   "source": [
    "def f(t, x):\n",
    "    return np.cos(t) - np.sin(x) + t ** 2"
   ]
  },
  {
   "cell_type": "code",
   "execution_count": 3,
   "metadata": {},
   "outputs": [],
   "source": [
    "t = -1; h = .2; n = 10; x = np.zeros(n + 1)\n",
    "x[0] = 3"
   ]
  },
  {
   "cell_type": "code",
   "execution_count": 4,
   "metadata": {},
   "outputs": [
    {
     "name": "stdout",
     "output_type": "stream",
     "text": [
      "1 3.2868761228365324\n",
      "2 3.635805237817255\n",
      "3 4.050456253364188\n",
      "4 4.5175243964464435\n",
      "5 5.00208505775761\n",
      "6 5.460302064346934\n",
      "7 5.86143490035478\n",
      "8 6.196561254966505\n",
      "9 6.471607362717207\n",
      "10 6.697791482053186\n"
     ]
    }
   ],
   "source": [
    "for i in range(n):\n",
    "    k_1 = f(t, x[i])\n",
    "    k_2 = f(t + h / 2, x[i] + h / 2 * k_1)\n",
    "    k_3 = f(t + h / 2, x[i] + h / 2 * k_2)\n",
    "    k_4 = f(t + h, x[i] + h * k_3)\n",
    "    x[i+1] = x[i] + h / 6 * (k_1 + 2 * k_2 + 2 * k_3 + k_4)\n",
    "    print(i+1, x[i+1])"
   ]
  }
 ],
 "metadata": {
  "kernelspec": {
   "display_name": "Python 3",
   "language": "python",
   "name": "python3"
  },
  "language_info": {
   "codemirror_mode": {
    "name": "ipython",
    "version": 3
   },
   "file_extension": ".py",
   "mimetype": "text/x-python",
   "name": "python",
   "nbconvert_exporter": "python",
   "pygments_lexer": "ipython3",
   "version": "3.6.5"
  }
 },
 "nbformat": 4,
 "nbformat_minor": 2
}

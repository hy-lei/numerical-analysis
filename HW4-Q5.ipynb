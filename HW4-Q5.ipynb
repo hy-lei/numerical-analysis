{
 "cells": [
  {
   "cell_type": "markdown",
   "metadata": {},
   "source": [
    "# Homework 4 Q5"
   ]
  },
  {
   "cell_type": "code",
   "execution_count": 1,
   "metadata": {},
   "outputs": [],
   "source": [
    "import numpy as np"
   ]
  },
  {
   "cell_type": "markdown",
   "metadata": {},
   "source": [
    "## Integrand"
   ]
  },
  {
   "cell_type": "markdown",
   "metadata": {},
   "source": [
    "The function to be integrated is\n",
    "$$ f(x) = e^x cos(x) $$ over $[0, \\pi]$."
   ]
  },
  {
   "cell_type": "code",
   "execution_count": 2,
   "metadata": {},
   "outputs": [],
   "source": [
    "def f(x):\n",
    "    return np.exp(x) * np.cos(x)"
   ]
  },
  {
   "cell_type": "code",
   "execution_count": 5,
   "metadata": {},
   "outputs": [],
   "source": [
    "n_list = [2, 4, 8, 16, 32, 64, 128]"
   ]
  },
  {
   "cell_type": "code",
   "execution_count": 6,
   "metadata": {},
   "outputs": [],
   "source": [
    "I_f = -12.0703463164"
   ]
  },
  {
   "cell_type": "markdown",
   "metadata": {},
   "source": [
    "## Composite Trapezoidal Rule"
   ]
  },
  {
   "cell_type": "markdown",
   "metadata": {},
   "source": [
    "The composite trapezoidal rule can be stated as\n",
    "$$ \\int_{a}^{b} f(x) dx \\approx \\frac{1}{2} \\sum_{i=0}^{n-1}(x_{i+1} - x_{i})(f(x_{i}) + f(x_{i+1})) dx$$\n",
    "and if $x_{i}s$ are equispaced, can be further simplified as\n",
    "$$ \\int_{a}^{b} f(x) dx \\approx \\frac{h}{2} (f(x_0) + f(x_n) + 2\\sum_{i=1}^{n-1}f(x_i)) $$\n",
    "where $h = \\frac{b-a}{n}, x_i = a + ih.$"
   ]
  },
  {
   "cell_type": "code",
   "execution_count": 8,
   "metadata": {},
   "outputs": [],
   "source": [
    "def composite_trapezoidal_rule(a, b, f, n):\n",
    "    h = (b - a) * 1. / n\n",
    "    x = np.linspace(a, b, n+1)\n",
    "    y = np.zeros_like(x)\n",
    "    y[0] = f(x[0])\n",
    "    y[-1] = f(x[-1])\n",
    "    for i in range(1, n):\n",
    "        y[i] = 2 * f(x[i])\n",
    "    return np.sum(y) * h / 2"
   ]
  },
  {
   "cell_type": "code",
   "execution_count": 12,
   "metadata": {},
   "outputs": [
    {
     "name": "stdout",
     "output_type": "stream",
     "text": [
      "n = 2:\n",
      "-17.38925933013225\n",
      "e_2 = 5.318913013732251\n",
      "n = 4:\n",
      "-13.336022847371488\n",
      "e_4 = 1.2656765309714881\n",
      "n = 8:\n",
      "-12.382162429755578\n",
      "e_8 = 0.3118161133555777\n",
      "n = 16:\n",
      "-12.14800409989683\n",
      "e_16 = 0.07765778349683039\n",
      "n = 32:\n",
      "-12.0897421170142\n",
      "e_32 = 0.0193958006142001\n",
      "n = 64:\n",
      "-12.07519409920214\n",
      "e_64 = 0.004847782802139378\n",
      "n = 128:\n",
      "-12.07155818910235\n",
      "e_128 = 0.001211872702349126\n"
     ]
    }
   ],
   "source": [
    "for i, n in enumerate(n_list):\n",
    "    integral_i = composite_trapezoidal_rule(0, np.pi, f, n)\n",
    "    e_i = I_f - integral_i\n",
    "    print(\"n = \" + str(n) + \":\")\n",
    "    print(integral_i)\n",
    "    print(\"e_\" + str(n) + \" = \" + str(e_i))"
   ]
  },
  {
   "cell_type": "markdown",
   "metadata": {},
   "source": [
    "## Composite Simpson's Rule"
   ]
  },
  {
   "cell_type": "markdown",
   "metadata": {},
   "source": [
    "The composite Simpson's Rule is based on Simpson's rule:\n",
    "$$ \\int_{a}^{b} f(x) dx \\approx \\frac{1}{6} \\sum_{i=0}^{n-1}(x_{i+1} - x_{i})(f(x_{i}) + 4f(\\frac{x_i + x_{i+1}}{2}) + f(x_{i+1})) dx$$\n",
    "Assuming equispaced points, we have\n",
    "$$\\int_{a}^{b} f(x) dx \\approx \\frac{h}{6}\\sum_{i=0}^{n-1}(f(x_{i}) + 4f(\\frac{x_i + x_{i+1}}{2}) + f(x_{i+1}))$$\n",
    "where $h = \\frac{b-a}{n}, x_i = a + ih.$"
   ]
  },
  {
   "cell_type": "code",
   "execution_count": 13,
   "metadata": {},
   "outputs": [],
   "source": [
    "def composite_simpsons_rule(a, b, f, n):\n",
    "    h = (b - a) * 1. / n\n",
    "    simpson_sum = 0\n",
    "    # first part\n",
    "    simpson_sum += f(a) + f(b)\n",
    "    for i in range(1, n):\n",
    "        simpson_sum += 2 * f(a + i * h)\n",
    "    # second part\n",
    "    for i in range(0, n):\n",
    "        x_i = a + i * h\n",
    "        simpson_sum += 4 * f(.5 * (2 * x_i + h))\n",
    "    return simpson_sum * h / 6"
   ]
  },
  {
   "cell_type": "code",
   "execution_count": 14,
   "metadata": {},
   "outputs": [
    {
     "name": "stdout",
     "output_type": "stream",
     "text": [
      "n = 2:\n",
      "-11.98494401978457\n",
      "e_2 = -0.08540229661543108\n",
      "n = 4:\n",
      "-12.064208957216941\n",
      "e_4 = -0.006137359183059132\n",
      "n = 8:\n",
      "-12.069951323277245\n",
      "e_8 = -0.0003949931227555936\n",
      "n = 16:\n",
      "-12.070321456053327\n",
      "e_16 = -2.486034667370518e-05\n",
      "n = 32:\n",
      "-12.070344759931452\n",
      "e_32 = -1.5564685487134966e-06\n",
      "n = 64:\n",
      "-12.070346219069082\n",
      "e_64 = -9.73309184360005e-08\n",
      "n = 128:\n",
      "-12.070346310306446\n",
      "e_128 = -6.0935541057460796e-09\n"
     ]
    }
   ],
   "source": [
    "for i, n in enumerate(n_list):\n",
    "    integral_i = composite_simpsons_rule(0, np.pi, f, n)\n",
    "    e_i = I_f - integral_i\n",
    "    print(\"n = \" + str(n) + \":\")\n",
    "    print(integral_i)\n",
    "    print(\"e_\" + str(n) + \" = \" + str(e_i))"
   ]
  }
 ],
 "metadata": {
  "kernelspec": {
   "display_name": "Python 3",
   "language": "python",
   "name": "python3"
  },
  "language_info": {
   "codemirror_mode": {
    "name": "ipython",
    "version": 3
   },
   "file_extension": ".py",
   "mimetype": "text/x-python",
   "name": "python",
   "nbconvert_exporter": "python",
   "pygments_lexer": "ipython3",
   "version": "3.6.5"
  }
 },
 "nbformat": 4,
 "nbformat_minor": 2
}
